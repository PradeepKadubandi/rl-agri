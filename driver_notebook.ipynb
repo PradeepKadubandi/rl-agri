{
 "cells": [
  {
   "cell_type": "code",
   "execution_count": 23,
   "metadata": {},
   "outputs": [],
   "source": [
    "from mcts import mcts\n",
    "from mcts import firstActionPolicy\n",
    "from mcts import randomPolicy\n",
    "from simulator import farmcell\n",
    "\n",
    "import numpy as np\n",
    "import matplotlib.pyplot as plt"
   ]
  },
  {
   "cell_type": "code",
   "execution_count": 24,
   "metadata": {},
   "outputs": [],
   "source": [
    "# Re-initialize everything\n",
    "n = 5\n",
    "farm = np.zeros((n, n), dtype=int)\n",
    "initialState = farmcell(n, (0, 0), farm)\n",
    "\n",
    "# Uncomment this for initializing the agent with the initial state, this will keep\n",
    "# the built tree across searches i.e., the performance may improve (?) as we run more epochs.\n",
    "# agent = mcts(timeLimit=1000, rolloutPolicy=randomPolicy, initialState=initialState)\n",
    "\n",
    "# If instead, we want to discard the tree after search and start new with next search, pass\n",
    "# the initialState to search method as a parameter instead and uncomment this line.\n",
    "agent = mcts(timeLimit=1000, rolloutPolicy=randomPolicy)\n",
    "\n",
    "rewards = []\n",
    "full_tree_over_time = []"
   ]
  },
  {
   "cell_type": "code",
   "execution_count": null,
   "metadata": {},
   "outputs": [],
   "source": [
    "epochs = 100\n",
    "best_farm = None\n",
    "best_reward = 0\n",
    "for i in range(epochs):\n",
    "    # For keeping the tree across searches\n",
    "    # bestAction = agent.search()\n",
    "    \n",
    "    # For rebuilding the tree with each search.\n",
    "    bestAction = agent.search(initialState=initialState)\n",
    "    \n",
    "    last_state, full_tree = agent.optimal_rollout()\n",
    "    full_tree_over_time.append(1 if full_tree else 0)\n",
    "    reward = last_state.state.getReward()\n",
    "    rewards.append(reward)\n",
    "    if reward > best_reward:\n",
    "        best_reward = reward\n",
    "        best_farm = last_state.state.farm"
   ]
  },
  {
   "cell_type": "code",
   "execution_count": null,
   "metadata": {},
   "outputs": [],
   "source": [
    "plt.plot(rewards)"
   ]
  },
  {
   "cell_type": "code",
   "execution_count": null,
   "metadata": {},
   "outputs": [],
   "source": [
    "plt.plot(full_tree_over_time)"
   ]
  },
  {
   "cell_type": "code",
   "execution_count": null,
   "metadata": {},
   "outputs": [],
   "source": [
    "print (best_reward)\n",
    "print (best_farm)"
   ]
  }
 ],
 "metadata": {
  "kernelspec": {
   "display_name": "rl-agri",
   "language": "python",
   "name": "rl-agri"
  },
  "language_info": {
   "codemirror_mode": {
    "name": "ipython",
    "version": 3
   },
   "file_extension": ".py",
   "mimetype": "text/x-python",
   "name": "python",
   "nbconvert_exporter": "python",
   "pygments_lexer": "ipython3",
   "version": "3.7.1"
  }
 },
 "nbformat": 4,
 "nbformat_minor": 2
}
